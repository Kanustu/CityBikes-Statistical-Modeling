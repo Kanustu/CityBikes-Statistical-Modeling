{
 "cells": [
  {
   "cell_type": "markdown",
   "metadata": {},
   "source": [
    "Join the data from Part 1 with the data from Part 2 to create a new dataframe."
   ]
  },
  {
   "cell_type": "code",
   "execution_count": 200,
   "metadata": {},
   "outputs": [
    {
     "data": {
      "text/plain": [
       "station_address  free_bikes  poi_name  address  hours  rating  price  popularity  review_count  distance\n",
       "False            False       False     False    False  False   False  False       True          False       2176\n",
       "                                                True   False   True   True        False         True        1033\n",
       "                                                False  False   False  False       False         False         46\n",
       "                                       True     True   False   True   True        False         True           2\n",
       "Name: count, dtype: int64"
      ]
     },
     "execution_count": 200,
     "metadata": {},
     "output_type": "execute_result"
    }
   ],
   "source": [
    "# Imports\n",
    "import pandas as pd\n",
    "import numpy as np\n",
    "import requests\n",
    "import os\n",
    "import json\n",
    "\n",
    "# Load CSVs from previous notebooks\n",
    "bikes_df = pd.read_csv('bikes_df.csv')\n",
    "final_yelp_df = pd.read_csv('final_yelp_df.csv')\n",
    "final_fsq_df = pd.read_csv('final_fsq_df.csv')\n",
    "\n",
    "# Allow transfer of yelp rating values to a 10 point system\n",
    "final_yelp_df.rename(columns={'rating':'yelp_rating'}, inplace=True)\n",
    "                              \n",
    "# Merge Yelp and Foursquare data\n",
    "poi_info = pd.merge(final_fsq_df, final_yelp_df, how='outer')\n",
    "\n",
    "# Change column names for easier reference and proper merge\n",
    "poi_info = poi_info.rename(columns={'name': 'poi_name',})\n",
    "\n",
    "# Fill missing 'rating' values based on Yelp ratings\n",
    "poi_info.loc[poi_info['rating'].isnull(), 'rating'] = poi_info['yelp_rating'] / 5 * 100 / 10\n",
    "poi_info.loc[poi_info['rating'] == 10, 'rating'] = 9.3\n",
    "\n",
    "# Rename columns in 'bikes_df'\n",
    "bikes_df = bikes_df.rename(columns={'name': 'station_address'})\n",
    "\n",
    "# Merge bike station data with merged POI data\n",
    "station_poi_df = pd.merge(poi_info, bikes_df)\n",
    "\n",
    "# Select specific columns for the final DataFrame\n",
    "station_poi_df = station_poi_df[['station_address',\n",
    "                                 'free_bikes',\n",
    "                                 'poi_name',\n",
    "                                 'address',\n",
    "                                 'hours',\n",
    "                                 'rating',\n",
    "                                 'price',\n",
    "                                 'popularity',\n",
    "                                 'review_count',\n",
    "                                 'distance']]\n",
    "\n",
    "\n",
    "# Checking for duplicates\n",
    "station_poi_df.duplicated().value_counts()\n",
    "# Checking for null values\n",
    "station_poi_df.isnull().value_counts()"
   ]
  },
  {
   "cell_type": "code",
   "execution_count": 201,
   "metadata": {},
   "outputs": [],
   "source": [
    "# Function to replace missing values with median column values\n",
    "def median_fillna(column):\n",
    "    \"\"\"\n",
    "    Fill missing values in a DataFrame column with the median of that column.\n",
    "\n",
    "    Parameters:\n",
    "    ----------\n",
    "    column : str\n",
    "        The name of the column in the DataFrame\n",
    "\n",
    "    Returns:\n",
    "    -------\n",
    "    None\n",
    "\n",
    "    Notes:\n",
    "    ------\n",
    "    This function replaces missing (NaN) values in the column,\n",
    "    with the median value of that column. The operation is performed in-place.\n",
    "\n",
    "    \"\"\"\n",
    "    station_poi_df[column].fillna(station_poi_df[column].median(), inplace=True)\n",
    "    \n",
    "# Replacing nulls with median values in multiple columns   \n",
    "column_list = ['popularity', 'review_count', 'distance']\n",
    "for column in column_list:\n",
    "    median_fillna(column)\n",
    "    \n",
    "# Replacing nulls in address and hours with fixed value\n",
    "station_poi_df.loc[station_poi_df['address'].isnull(), 'address'] = 'not available'\n",
    "station_poi_df.loc[station_poi_df['hours'].isnull(), 'hours'] = 'not available'\n",
    "\n",
    "# Replacing nulls in price with min value\n",
    "station_poi_df.loc[station_poi_df['price'].isnull(), 'price'] = station_poi_df['price'].min()"
   ]
  },
  {
   "cell_type": "code",
   "execution_count": 198,
   "metadata": {},
   "outputs": [],
   "source": [
    "station_poi_df.isnull().value_counts()\n",
    "\n",
    "# Save the resulting DataFrame to a CSV file\n",
    "station_poi_df.to_csv('station_poi_df.csv', index=False)"
   ]
  },
  {
   "cell_type": "code",
   "execution_count": null,
   "metadata": {},
   "outputs": [],
   "source": []
  },
  {
   "cell_type": "markdown",
   "metadata": {},
   "source": [
    "Provide a visualization that you used as part of your EDA process. Explain the initial pattern or relationship you discoved through this visualization. "
   ]
  },
  {
   "cell_type": "code",
   "execution_count": null,
   "metadata": {},
   "outputs": [],
   "source": []
  },
  {
   "cell_type": "code",
   "execution_count": null,
   "metadata": {},
   "outputs": [],
   "source": []
  },
  {
   "cell_type": "code",
   "execution_count": 156,
   "metadata": {},
   "outputs": [
    {
     "data": {
      "text/plain": [
       "<Axes: xlabel='review_count', ylabel='free_bikes'>"
      ]
     },
     "execution_count": 156,
     "metadata": {},
     "output_type": "execute_result"
    },
    {
     "data": {
      "image/png": "[encoded data removed]",
      "text/plain": [
       "<Figure size 864x576 with 1 Axes>"
      ]
     },
     "metadata": {
      "needs_background": "light"
     },
     "output_type": "display_data"
    }
   ],
   "source": [
    "import seaborn as sns\n",
    "import matplotlib.pyplot as plt\n",
    "fig = plt.gcf()\n",
    "fig.set_size_inches(12, 8)\n",
    "sns.regplot(data = station_poi_df, x =station_poi_df['review_count'], y=station_poi_df['free_bikes'])"
   ]
  },
  {
   "cell_type": "markdown",
   "metadata": {},
   "source": [
    "There appears to be a modest correlation between the quantity of available free bikes and the number of reviews recorded in the 'review_count' column."
   ]
  },
  {
   "cell_type": "code",
   "execution_count": 133,
   "metadata": {},
   "outputs": [
    {
     "data": {
      "text/plain": [
       "<Axes: xlabel='distance', ylabel='Count'>"
      ]
     },
     "execution_count": 133,
     "metadata": {},
     "output_type": "execute_result"
    },
    {
     "data": {
      "image/png": "[encoded data removed]",
      "text/plain": [
       "<Figure size 864x576 with 1 Axes>"
      ]
     },
     "metadata": {
      "needs_background": "light"
     },
     "output_type": "display_data"
    }
   ],
   "source": [
    "fig = plt.gcf()\n",
    "fig.set_size_inches(12, 8)\n",
    "sns.histplot(data = station_poi_df, x =station_poi_df['distance'])"
   ]
  },
  {
   "cell_type": "markdown",
   "metadata": {},
   "source": [
    "Most values are around 400, and seeing as though no location should be more than 1000m from a bike station, there are outliers that are 1000m+ away from a station. So they should be removed."
   ]
  },
  {
   "cell_type": "code",
   "execution_count": 163,
   "metadata": {},
   "outputs": [],
   "source": [
    "# Removing outliers in distance column\n",
    "outlier_index = station_poi_df[station_poi_df['distance'] > 1000].index\n",
    "station_poi_df.drop(outlier_index, inplace=True)"
   ]
  },
  {
   "cell_type": "code",
   "execution_count": 164,
   "metadata": {},
   "outputs": [
    {
     "data": {
      "text/plain": [
       "<Axes: xlabel='distance', ylabel='Count'>"
      ]
     },
     "execution_count": 164,
     "metadata": {},
     "output_type": "execute_result"
    },
    {
     "data": {
      "image/png": "[encoded data removed]",
      "text/plain": [
       "<Figure size 864x576 with 1 Axes>"
      ]
     },
     "metadata": {
      "needs_background": "light"
     },
     "output_type": "display_data"
    }
   ],
   "source": [
    "fig = plt.gcf()\n",
    "fig.set_size_inches(12, 8)\n",
    "sns.histplot(data = station_poi_df, x =station_poi_df['distance'])"
   ]
  },
  {
   "cell_type": "code",
   "execution_count": 157,
   "metadata": {},
   "outputs": [
    {
     "data": {
      "text/plain": [
       "<Axes: xlabel='review_count', ylabel='Count'>"
      ]
     },
     "execution_count": 157,
     "metadata": {},
     "output_type": "execute_result"
    },
    {
     "data": {
      "image/png": "[encoded data removed]",
      "text/plain": [
       "<Figure size 864x576 with 1 Axes>"
      ]
     },
     "metadata": {
      "needs_background": "light"
     },
     "output_type": "display_data"
    }
   ],
   "source": [
    "fig = plt.gcf()\n",
    "fig.set_size_inches(12, 8)\n",
    "sns.histplot(data = station_poi_df, x =station_poi_df['review_count'])"
   ]
  },
  {
   "cell_type": "markdown",
   "metadata": {},
   "source": [
    "There are outliers beyond 7000 reviews, as the mean is 720 for this column and the middle 50% are all the same value, more than likely from me replacing NaN values with the median. I have decided to remove any with a count above 7000."
   ]
  },
  {
   "cell_type": "code",
   "execution_count": 158,
   "metadata": {},
   "outputs": [],
   "source": [
    "# Removing outliers in the review_count column\n",
    "outlier_index = station_poi_df[station_poi_df['review_count'] > 7000].index\n",
    "station_poi_df.drop(outlier_index, inplace=True)"
   ]
  },
  {
   "cell_type": "code",
   "execution_count": 159,
   "metadata": {},
   "outputs": [
    {
     "data": {
      "text/plain": [
       "<Axes: xlabel='review_count', ylabel='Count'>"
      ]
     },
     "execution_count": 159,
     "metadata": {},
     "output_type": "execute_result"
    },
    {
     "data": {
      "image/png": "[encoded data removed]",
      "text/plain": [
       "<Figure size 864x576 with 1 Axes>"
      ]
     },
     "metadata": {
      "needs_background": "light"
     },
     "output_type": "display_data"
    }
   ],
   "source": [
    "fig = plt.gcf()\n",
    "fig.set_size_inches(12, 8)\n",
    "sns.histplot(data = station_poi_df, x =station_poi_df['review_count'])"
   ]
  },
  {
   "cell_type": "code",
   "execution_count": 202,
   "metadata": {},
   "outputs": [
    {
     "data": {
      "text/plain": [
       "<Axes: xlabel='rating', ylabel='Count'>"
      ]
     },
     "execution_count": 202,
     "metadata": {},
     "output_type": "execute_result"
    },
    {
     "data": {
      "image/png": "[encoded data removed]",
      "text/plain": [
       "<Figure size 864x576 with 1 Axes>"
      ]
     },
     "metadata": {
      "needs_background": "light"
     },
     "output_type": "display_data"
    }
   ],
   "source": [
    "fig = plt.gcf()\n",
    "fig.set_size_inches(12, 8)\n",
    "sns.histplot(data = station_poi_df, x =station_poi_df['rating'])"
   ]
  },
  {
   "cell_type": "markdown",
   "metadata": {},
   "source": [
    "There seems to be outliers on both sides of the rating column."
   ]
  },
  {
   "cell_type": "code",
   "execution_count": 203,
   "metadata": {},
   "outputs": [],
   "source": [
    "# Looking for outliers in rating column\n",
    "Q1 = station_poi_df['rating'].quantile(0.25)\n",
    "Q3 = station_poi_df['rating'].quantile(0.75)\n",
    "IQR = Q3 - Q1\n",
    "# Used 2.5 instead of the standard 1.5 as at 1.5 i would be removing more rows than i felt i should\n",
    "lower = station_poi_df[station_poi_df['rating'] < Q1 - IQR*2.5].index\n",
    "upper = station_poi_df[station_poi_df['rating'] > Q3 + IQR*2.5].index\n",
    "# Dropping outliers\n",
    "station_poi_df.drop(lower, inplace=True)\n",
    "station_poi_df.drop(upper, inplace=True)"
   ]
  },
  {
   "cell_type": "code",
   "execution_count": 204,
   "metadata": {},
   "outputs": [
    {
     "data": {
      "text/plain": [
       "<Axes: xlabel='rating', ylabel='Count'>"
      ]
     },
     "execution_count": 204,
     "metadata": {},
     "output_type": "execute_result"
    },
    {
     "data": {
      "image/png": "[encoded data removed]",
      "text/plain": [
       "<Figure size 864x576 with 1 Axes>"
      ]
     },
     "metadata": {
      "needs_background": "light"
     },
     "output_type": "display_data"
    }
   ],
   "source": [
    "fig = plt.gcf()\n",
    "fig.set_size_inches(12, 8)\n",
    "sns.histplot(data = station_poi_df, x =station_poi_df['rating'])"
   ]
  },
  {
   "cell_type": "code",
   "execution_count": null,
   "metadata": {},
   "outputs": [],
   "source": [
    "Looking more evenly distributed after removing outliers with IQR method."
   ]
  },
  {
   "cell_type": "markdown",
   "metadata": {},
   "source": [
    "# Database"
   ]
  },
  {
   "cell_type": "markdown",
   "metadata": {},
   "source": [
    "Put all your results in an SQLite3 database (remember, SQLite stores its databases as files in your local machine - make sure to create your database in your project's data/ directory!)"
   ]
  },
  {
   "cell_type": "code",
   "execution_count": 143,
   "metadata": {},
   "outputs": [
    {
     "name": "stdout",
     "output_type": "stream",
     "text": [
      "Connection to SQLite DB successful\n"
     ]
    }
   ],
   "source": [
    "# Imports\n",
    "import sqlite3\n",
    "from sqlite3 import Error\n",
    "import pandas as pd\n",
    "\n",
    "# Read data from CSV file into a DataFrame\n",
    "station_poi_df = pd.read_csv('/Users/jordankanius/Downloads/station_poi_df')\n",
    "\n",
    "# Define a function to create a connection to the database\n",
    "def create_connection(path):\n",
    "    connection = None\n",
    "    try:\n",
    "        connection = sqlite3.connect(path)\n",
    "        print(\"Connection to SQLite DB successful\")\n",
    "    except Error as e:\n",
    "        print(f\"The error '{e}' occurred\")\n",
    "    return connection\n",
    "\n",
    "# Define a function to execute a SQL query\n",
    "def execute_query(connection, query, params=None):\n",
    "    cursor = connection.cursor()\n",
    "    try:\n",
    "        if params is None:\n",
    "            cursor.execute(query)\n",
    "        else:\n",
    "            cursor.execute(query, params)\n",
    "        connection.commit()\n",
    "    except Error as e:\n",
    "        print(f\"The error '{e}' occurred\")\n",
    "\n",
    "# Define a function to execute a SQL query and retrieve results\n",
    "def execute_read_query(connection, query):\n",
    "    cursor = connection.cursor()\n",
    "    result = None\n",
    "    try:\n",
    "        cursor.execute(query)\n",
    "        result = cursor.fetchall()\n",
    "        return result\n",
    "    except Error as e:\n",
    "        print(f\"The error '{e}' occurred\")\n",
    "\n",
    "# Create a connection to the SQLite database\n",
    "connection = create_connection('station_info.db')\n",
    "\n",
    "# Define SQL queries to create tables if they don't exist\n",
    "create_table_stations = '''\n",
    "CREATE TABLE IF NOT EXISTS stations(\n",
    "address VARCHAR(50) PRIMARY KEY,\n",
    "free_bikes INTEGER)\n",
    "'''\n",
    "\n",
    "create_poi_table = '''\n",
    "CREATE TABLE IF NOT EXISTS poi_info(\n",
    "address VARCHAR(50),\n",
    "poi_name VARCHAR(50),\n",
    "poi_address VARCHAR(50),\n",
    "hours VARCHAR(50),\n",
    "CONSTRAINT fk_poi_info FOREIGN KEY (address) REFERENCES stations(address))\n",
    "'''\n",
    "\n",
    "create_poi_metrics = '''\n",
    "CREATE TABLE IF NOT EXISTS poi_metrics(\n",
    "address VARCHAR(50) UNIQUE,\n",
    "rating FLOAT,\n",
    "popularity FLOAT,\n",
    "review_count INTEGER,\n",
    "distance INTEGER,\n",
    "CONSTRAINT fk_poi_metrics FOREIGN KEY (address) REFERENCES poi_info(poi_address))\n",
    "'''\n",
    "\n",
    "# Execute the SQL queries to create tables\n",
    "execute_query(connection, create_table_stations)\n",
    "execute_query(connection, create_poi_table)\n",
    "execute_query(connection, create_poi_metrics)\n",
    "\n",
    "# Prepare data for insertion into tables\n",
    "station_entry = []\n",
    "station_table = station_poi_df[['station_address' ,'free_bikes']].drop_duplicates()\n",
    "for x in range(len(station_table)):\n",
    "    dict = {\n",
    "    'address' : station_table['station_address'].to_list()[x],\n",
    "    'free_bikes': station_table['free_bikes'].to_list()[x]\n",
    "    }\n",
    "    station_entry.append(dict)\n",
    "\n",
    "poi_entry = []\n",
    "poi_table = station_poi_df[['station_address','poi_name', 'address', 'hours']]\n",
    "for x in range(len(poi_table)):\n",
    "    dict = {\n",
    "    'address':poi_table['station_address'].to_list()[x],\n",
    "    'poi_name': poi_table['poi_name'].to_list()[x],\n",
    "    'poi_address': poi_table['address'].to_list()[x],\n",
    "    'hours': poi_table['hours'].to_list()[x]\n",
    "    }\n",
    "    poi_entry.append(dict)\n",
    "\n",
    "metrics_entry = []   \n",
    "poi_metrics = station_poi_df[['address', 'rating','popularity(0-1)','review_count','distance']]\n",
    "for x in range(len(poi_metrics)):\n",
    "    dict ={\n",
    "           'address':poi_metrics['address'].to_list()[x],\n",
    "           'rating':poi_metrics['rating'].to_list()[x],\n",
    "           'popularity':poi_metrics['popularity(0-1)'].to_list()[x],\n",
    "           'review_count':poi_metrics['review_count'].to_list()[x],\n",
    "           'distance':poi_metrics['distance'].to_list()[x]\n",
    "          }\n",
    "    metrics_entry.append(dict)\n",
    "\n",
    "# Insert data into tables\n",
    "for entry in station_entry:\n",
    "    execute_query(connection, \"INSERT or IGNORE INTO stations (address, free_bikes) VALUES(?,?)\",\n",
    "                                (entry['address'], entry['free_bikes']))\n",
    "\n",
    "for entry in poi_entry:\n",
    "    execute_query(connection, \"INSERT or REPLACE INTO poi_info (address,poi_name, poi_address, hours) VALUES(?,?,?,?)\",\n",
    "                                (entry['address'], entry['poi_name'], entry['poi_address'], entry['hours']))\n",
    "\n",
    "for entry in metrics_entry:\n",
    "    execute_query(connection, \"INSERT OR IGNORE INTO poi_metrics ( address, rating, popularity,review_count,distance) VALUES(?,?,?,?,?)\",\n",
    "                                (entry['address'], entry['rating'], entry['popularity'],entry['review_count'],entry['distance']))\n"
   ]
  },
  {
   "cell_type": "markdown",
   "metadata": {},
   "source": [
    "Look at the data before and after the join to validate your data."
   ]
  },
  {
   "cell_type": "code",
   "execution_count": 144,
   "metadata": {},
   "outputs": [
    {
     "name": "stdout",
     "output_type": "stream",
     "text": [
      "True\n",
      "Max values before and after ranges are equal\n",
      "Min values before and after ranges are equal\n",
      "Max values before and after ranges are equal\n",
      "Min values before and after ranges are equal\n",
      "Max values before and after ranges are equal\n"
     ]
    }
   ],
   "source": [
    "# Perform a SQL query to select data from multiple tables by joining them\n",
    "selection = pd.read_sql(\n",
    "    \"SELECT s.address, free_bikes, poi_name, poi_address, hours, rating, popularity, review_count, distance\\\n",
    "     FROM stations as s RIGHT OUTER JOIN poi_info as p ON s.address = p.address\\\n",
    "     LEFT OUTER JOIN poi_metrics AS po ON p.poi_address = po.address \", connection)\n",
    "\n",
    "# Check if the shape of the selected data matches the shape of the original DataFrame\n",
    "if selection.shape == station_poi_df.shape:\n",
    "    print(True)\n",
    "\n",
    "# Define a function to check the range of values in a specified column of a DataFrame\n",
    "def range_check(dataframe, table, column):\n",
    "    \"\"\"\n",
    "    Check if the range of values in a specified column of a DataFrame matches the range in a corresponding database table.\n",
    "\n",
    "    Parameters:\n",
    "    -----------\n",
    "    dataframe : pandas DataFrame\n",
    "        The DataFrame containing the data to be checked.\n",
    "\n",
    "    table : str\n",
    "        The name of the database table from which the values should be compared.\n",
    "\n",
    "    column : str\n",
    "        The name of the column within both the DataFrame and the database table to be compared.\n",
    "\n",
    "\n",
    "    Notes:\n",
    "    ------\n",
    "    This function performs a range check by comparing the maximum and minimum values of the specified column\n",
    "    in the DataFrame to the maximum and minimum values of the same column in the specified database table.\n",
    "    It prints a message indicating whether the maximum and minimum values match, indicating that the ranges are equal.\n",
    "    \"\"\"\n",
    "    value_check = pd.read_sql(f\"SELECT {column} FROM {table}\", connection)\n",
    "    if dataframe[f'{column}'].max() == value_check.max()[0]:\n",
    "        print(\"Max values before and after ranges are equal\")\n",
    "    if dataframe[f'{column}'].min() == value_check.min()[0]:\n",
    "        print('Min values before and after ranges are equal')\n",
    "\n",
    "# Perform range checks for specific columns and tables\n",
    "range_check(station_poi_df, 'stations', 'free_bikes')\n",
    "range_check(station_poi_df, 'poi_metrics', 'rating')\n",
    "range_check(station_poi_df, 'poi_metrics', 'distance')\n"
   ]
  }
 ],
 "metadata": {
  "kernelspec": {
   "display_name": "Python 3 (ipykernel)",
   "language": "python",
   "name": "python3"
  },
  "language_info": {
   "codemirror_mode": {
    "name": "ipython",
    "version": 3
   },
   "file_extension": ".py",
   "mimetype": "text/x-python",
   "name": "python",
   "nbconvert_exporter": "python",
   "pygments_lexer": "ipython3",
   "version": "3.9.16"
  }
 },
 "nbformat": 4,
 "nbformat_minor": 4
}
