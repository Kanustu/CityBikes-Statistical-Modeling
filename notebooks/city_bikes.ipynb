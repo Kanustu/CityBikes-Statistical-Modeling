{
 "cells": [
  {
   "cell_type": "markdown",
   "metadata": {},
   "source": [
    "# CityBikes"
   ]
  },
  {
   "cell_type": "markdown",
   "metadata": {},
   "source": [
    "Send a request to CityBikes for the city of your choice. "
   ]
  },
  {
   "cell_type": "code",
   "execution_count": 1,
   "metadata": {},
   "outputs": [],
   "source": [
    "# Imports\n",
    "import pandas as pd\n",
    "import requests\n",
    "import json"
   ]
  },
  {
   "cell_type": "code",
   "execution_count": 12,
   "metadata": {},
   "outputs": [],
   "source": [
    "def api_request(url,headers=None,params=None):\n",
    "    \"\"\"\n",
    "    Send an HTTP GET request to the specified URL with optional headers and parameters.\n",
    "\n",
    "    Args:\n",
    "        url (str): The URL to send the GET request to.\n",
    "        headers (dict, optional): A dictionary of HTTP headers to include in the request.\n",
    "            Default is None.\n",
    "        params (dict, optional): A dictionary of query parameters to include in the request.\n",
    "            Default is None.\n",
    "    \"\"\"\n",
    "    \n",
    "    request = requests.get(url, headers=headers)\n",
    "    return request.json()\n",
    "\n",
    "def citybikes_city_search(api_cities, target_city):\n",
    "    \"\"\"\n",
    "    Search for a specific city in a list of city network information and return its 'href'.\n",
    "\n",
    "    This function iterates through a list of city network information, typically obtained from an API,\n",
    "    and looks for a city whose 'location' matches the specified 'target_city'. If a matching city is found,\n",
    "    the function returns the 'href' attribute of that city.\n",
    "\n",
    "    Parameters:\n",
    "    api_cities (dict): A dictionary containing a list of city network information, obtained from city_bikes API.\n",
    "    target_city (str): The name of the city to search for, e.g., 'Los Angeles, CA'.\n",
    "\n",
    "    Returns:\n",
    "    str or None: The 'href' attribute of the matching city if found, or None if no match is found.\n",
    "    \"\"\"\n",
    "    \n",
    "    for city in api_cities['networks']:\n",
    "        if city['location']['city'] == target_city:\n",
    "           return city['href']\n",
    "\n",
    "# Define the API endpoints for city information and station information.\n",
    "url_city = 'http://api.citybik.es/v2/networks'\n",
    "url_stations = f'http://api.citybik.es{citybikes_city_search(api_request(url_city), \"Los Angeles, CA\")}'\n",
    "\n"
   ]
  },
  {
   "cell_type": "markdown",
   "metadata": {},
   "source": [
    "Parse through the response to get the details you want for the bike stations in that city (latitude, longitude, number of bikes). "
   ]
  },
  {
   "cell_type": "code",
   "execution_count": 13,
   "metadata": {},
   "outputs": [],
   "source": [
    "station_info = api_request(url_stations)['network']['stations']"
   ]
  },
  {
   "cell_type": "markdown",
   "metadata": {},
   "source": [
    "Put your parsed results into a DataFrame."
   ]
  },
  {
   "cell_type": "code",
   "execution_count": 18,
   "metadata": {},
   "outputs": [],
   "source": [
    "# create a dataframe with info for each station\n",
    "bikes_df = pd.json_normalize(station_info)\n",
    "bikes_df = bikes_df.rename(columns={'name':'station_address', 'latitude':'bike_station_lat','longitude':'bike_station_long'})\n",
    "bikes_df = bikes_df[['station_address','bike_station_lat','bike_station_long','free_bikes']]\n",
    "\n",
    "# Checking for null values\n",
    "bikes_df.isnull().value_counts()\n",
    "\n",
    "# Checking for duplicates\n",
    "bikes_df.duplicated().value_counts()\n",
    "\n",
    "# Confirming datatypes\n",
    "bikes_df.dtypes\n",
    "\n",
    "bikes_df.to_csv('bikes_df.csv', index=False)\n"
   ]
  },
  {
   "cell_type": "code",
   "execution_count": null,
   "metadata": {},
   "outputs": [],
   "source": []
  }
 ],
 "metadata": {
  "kernelspec": {
   "display_name": "ava",
   "language": "python",
   "name": "ava"
  },
  "language_info": {
   "codemirror_mode": {
    "name": "ipython",
    "version": 3
   },
   "file_extension": ".py",
   "mimetype": "text/x-python",
   "name": "python",
   "nbconvert_exporter": "python",
   "pygments_lexer": "ipython3",
   "version": "3.9.16"
  }
 },
 "nbformat": 4,
 "nbformat_minor": 4
}
