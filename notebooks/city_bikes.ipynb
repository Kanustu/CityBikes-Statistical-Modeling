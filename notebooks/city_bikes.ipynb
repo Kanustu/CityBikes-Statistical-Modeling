{
 "cells": [
  {
   "cell_type": "markdown",
   "metadata": {},
   "source": [
    "# CityBikes"
   ]
  },
  {
   "cell_type": "markdown",
   "metadata": {},
   "source": [
    "Send a request to CityBikes for the city of your choice. "
   ]
  },
  {
   "cell_type": "code",
   "execution_count": 1,
   "metadata": {},
   "outputs": [],
   "source": [
    "import pandas as pd\n",
    "import requests\n",
    "import json"
   ]
  },
  {
   "cell_type": "code",
   "execution_count": 4,
   "metadata": {},
   "outputs": [
    {
     "name": "stdout",
     "output_type": "stream",
     "text": [
      "/v2/networks/metro-bike-share\n"
     ]
    }
   ],
   "source": [
    "#first api call to attain the 'href' for Los Angeles, CA\n",
    "url_city = 'http://api.citybik.es/v2/networks'\n",
    "result_city = requests.get(url_city)\n",
    "cities = result_city.json()\n",
    "for city in cities['networks']:\n",
    "    if city['location']['city'] == 'Los Angeles, CA':\n",
    "        print(city['href'])"
   ]
  },
  {
   "cell_type": "code",
   "execution_count": 20,
   "metadata": {},
   "outputs": [],
   "source": [
    "# 2nd api call to attain a list of each bike station\n",
    "url_stations = 'http://api.citybik.es/v2/networks/metro-bike-share'\n",
    "result_stations = requests.get(url_stations)\n",
    "stations = result_stations.json()"
   ]
  },
  {
   "cell_type": "markdown",
   "metadata": {},
   "source": [
    "Parse through the response to get the details you want for the bike stations in that city (latitude, longitude, number of bikes). "
   ]
  },
  {
   "cell_type": "code",
   "execution_count": 39,
   "metadata": {},
   "outputs": [
    {
     "data": {
      "text/plain": [
       "{'empty_slots': 9,\n",
       " 'extra': {'address': '699 S Imperial St',\n",
       "  'last_updated': 1693492434,\n",
       "  'rental_uris': {'android': 'https://www.bcycle.com/applink?system_id=bcycle_lametro&station_id=bcycle_lametro_3037&platform=android',\n",
       "   'ios': 'https://www.bcycle.com/applink?system_id=bcycle_lametro&station_id=bcycle_lametro_3037&platform=iOS'},\n",
       "  'renting': 1,\n",
       "  'returning': 1,\n",
       "  'uid': 'bcycle_lametro_3037'},\n",
       " 'free_bikes': 11,\n",
       " 'id': 'b6faafb631c1e75fe42dcf0183d5cdd9',\n",
       " 'latitude': 34.0348,\n",
       " 'longitude': -118.23128,\n",
       " 'name': 'Imperial & 7th',\n",
       " 'timestamp': '2023-08-31T14:33:54.946000Z'}"
      ]
     },
     "execution_count": 39,
     "metadata": {},
     "output_type": "execute_result"
    }
   ],
   "source": [
    "station_info = stations['network']['stations']"
   ]
  },
  {
   "cell_type": "markdown",
   "metadata": {},
   "source": [
    "Put your parsed results into a DataFrame."
   ]
  },
  {
   "cell_type": "code",
   "execution_count": 37,
   "metadata": {},
   "outputs": [],
   "source": [
    "# create a dataframe with info for each station\n",
    "bikes_df = pd.json_normalize(station_info)\n",
    "bikes_df = bikes_df.rename(columns={'name':'station_address', 'latitude':'bike_station_lat','longitude':'bike_station_long'})\n",
    "bikes_df = bikes_df[['station_address','bike_station_lat','bike_station_long','free_bikes']]\n",
    "bikes_df.to_csv('bikes_df', index=False)"
   ]
  }
 ],
 "metadata": {
  "kernelspec": {
   "display_name": "Python 3 (ipykernel)",
   "language": "python",
   "name": "python3"
  },
  "language_info": {
   "codemirror_mode": {
    "name": "ipython",
    "version": 3
   },
   "file_extension": ".py",
   "mimetype": "text/x-python",
   "name": "python",
   "nbconvert_exporter": "python",
   "pygments_lexer": "ipython3",
   "version": "3.9.16"
  }
 },
 "nbformat": 4,
 "nbformat_minor": 4
}
