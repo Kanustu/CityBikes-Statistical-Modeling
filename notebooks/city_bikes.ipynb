{
 "cells": [
  {
   "cell_type": "markdown",
   "metadata": {},
   "source": [
    "# CityBikes"
   ]
  },
  {
   "cell_type": "markdown",
   "metadata": {},
   "source": [
    "Send a request to CityBikes for the city of your choice. "
   ]
  },
  {
   "cell_type": "code",
   "execution_count": 2,
   "metadata": {},
   "outputs": [],
   "source": [
    "# Imports\n",
    "import pandas as pd\n",
    "import requests\n",
    "import json"
   ]
  },
  {
   "cell_type": "code",
   "execution_count": 19,
   "metadata": {},
   "outputs": [],
   "source": [
    "def api_request(url):\n",
    "    \"\"\"\n",
    "    Send an HTTP GET request to the specified URL and return the JSON response.\n",
    "\n",
    "    Parameters:\n",
    "    url (str): The URL to send the GET request to.\n",
    "\n",
    "    Returns:\n",
    "    dict: A dictionary containing the JSON response from the API.\n",
    "\n",
    "    Raises:\n",
    "    requests.exceptions.RequestException: If an error occurs while making the request.\n",
    "    json.decoder.JSONDecodeError: If the response cannot be decoded as JSON.\n",
    "    \"\"\"\n",
    "    request = requests.get(url)\n",
    "    return request.json()\n",
    "\n",
    "def citybikes_city_search(api_cities, target_city):\n",
    "    \"\"\"\n",
    "    Search for a specific city in a list of city network information and return its 'href'.\n",
    "\n",
    "    This function iterates through a list of city network information, typically obtained from an API,\n",
    "    and looks for a city whose 'location' matches the specified 'target_city'. If a matching city is found,\n",
    "    the function returns the 'href' attribute of that city.\n",
    "\n",
    "    Parameters:\n",
    "    api_cities (dict): A dictionary containing a list of city network information, obtained from city_bikes API.\n",
    "    target_city (str): The name of the city to search for, e.g., 'Los Angeles, CA'.\n",
    "\n",
    "    Returns:\n",
    "    str or None: The 'href' attribute of the matching city if found, or None if no match is found.\n",
    "    \"\"\"\n",
    "    \n",
    "    for city in cities['networks']:\n",
    "        if city['location']['city'] == target_city:\n",
    "           return city['href']\n",
    "\n",
    "# Define the API endpoints for city information and station information.\n",
    "url_city = 'http://api.citybik.es/v2/networks'\n",
    "url_stations = f'http://api.citybik.es{citybikes_city_search(api_request(url_city), \"Los Angeles, CA\")}'\n",
    "\n"
   ]
  },
  {
   "cell_type": "markdown",
   "metadata": {},
   "source": [
    "Parse through the response to get the details you want for the bike stations in that city (latitude, longitude, number of bikes). "
   ]
  },
  {
   "cell_type": "code",
   "execution_count": 17,
   "metadata": {},
   "outputs": [],
   "source": [
    "station_info = api_request(url_stations)['network']['stations']"
   ]
  },
  {
   "cell_type": "markdown",
   "metadata": {},
   "source": [
    "Put your parsed results into a DataFrame."
   ]
  },
  {
   "cell_type": "code",
   "execution_count": 18,
   "metadata": {},
   "outputs": [
    {
     "data": {
      "text/html": [
       "<div>\n",
       "<style scoped>\n",
       "    .dataframe tbody tr th:only-of-type {\n",
       "        vertical-align: middle;\n",
       "    }\n",
       "\n",
       "    .dataframe tbody tr th {\n",
       "        vertical-align: top;\n",
       "    }\n",
       "\n",
       "    .dataframe thead th {\n",
       "        text-align: right;\n",
       "    }\n",
       "</style>\n",
       "<table border=\"1\" class=\"dataframe\">\n",
       "  <thead>\n",
       "    <tr style=\"text-align: right;\">\n",
       "      <th></th>\n",
       "      <th>station_address</th>\n",
       "      <th>bike_station_lat</th>\n",
       "      <th>bike_station_long</th>\n",
       "      <th>free_bikes</th>\n",
       "    </tr>\n",
       "  </thead>\n",
       "  <tbody>\n",
       "    <tr>\n",
       "      <th>0</th>\n",
       "      <td>Imperial &amp; 7th</td>\n",
       "      <td>34.03480</td>\n",
       "      <td>-118.23128</td>\n",
       "      <td>8</td>\n",
       "    </tr>\n",
       "    <tr>\n",
       "      <th>1</th>\n",
       "      <td>Willow St &amp; Mateo St</td>\n",
       "      <td>34.03919</td>\n",
       "      <td>-118.23253</td>\n",
       "      <td>8</td>\n",
       "    </tr>\n",
       "    <tr>\n",
       "      <th>2</th>\n",
       "      <td>Hope &amp; 6th</td>\n",
       "      <td>34.04989</td>\n",
       "      <td>-118.25588</td>\n",
       "      <td>6</td>\n",
       "    </tr>\n",
       "    <tr>\n",
       "      <th>3</th>\n",
       "      <td>Hope &amp; 1st</td>\n",
       "      <td>34.05772</td>\n",
       "      <td>-118.24897</td>\n",
       "      <td>5</td>\n",
       "    </tr>\n",
       "    <tr>\n",
       "      <th>4</th>\n",
       "      <td>Grand &amp; Washington</td>\n",
       "      <td>34.03286</td>\n",
       "      <td>-118.26808</td>\n",
       "      <td>5</td>\n",
       "    </tr>\n",
       "    <tr>\n",
       "      <th>...</th>\n",
       "      <td>...</td>\n",
       "      <td>...</td>\n",
       "      <td>...</td>\n",
       "      <td>...</td>\n",
       "    </tr>\n",
       "    <tr>\n",
       "      <th>219</th>\n",
       "      <td>Sunset &amp; Virgil</td>\n",
       "      <td>34.09801</td>\n",
       "      <td>-118.28707</td>\n",
       "      <td>4</td>\n",
       "    </tr>\n",
       "    <tr>\n",
       "      <th>220</th>\n",
       "      <td>Hoover &amp; Fountain</td>\n",
       "      <td>34.09493</td>\n",
       "      <td>-118.28456</td>\n",
       "      <td>5</td>\n",
       "    </tr>\n",
       "    <tr>\n",
       "      <th>221</th>\n",
       "      <td>Pershing Square</td>\n",
       "      <td>34.04804</td>\n",
       "      <td>-118.25374</td>\n",
       "      <td>10</td>\n",
       "    </tr>\n",
       "    <tr>\n",
       "      <th>222</th>\n",
       "      <td>Venice &amp; Inglewood</td>\n",
       "      <td>34.00587</td>\n",
       "      <td>-118.42916</td>\n",
       "      <td>1</td>\n",
       "    </tr>\n",
       "    <tr>\n",
       "      <th>223</th>\n",
       "      <td>4th &amp; Vermont</td>\n",
       "      <td>34.06699</td>\n",
       "      <td>-118.29088</td>\n",
       "      <td>11</td>\n",
       "    </tr>\n",
       "  </tbody>\n",
       "</table>\n",
       "<p>224 rows × 4 columns</p>\n",
       "</div>"
      ],
      "text/plain": [
       "          station_address  bike_station_lat  bike_station_long  free_bikes\n",
       "0          Imperial & 7th          34.03480         -118.23128           8\n",
       "1    Willow St & Mateo St          34.03919         -118.23253           8\n",
       "2              Hope & 6th          34.04989         -118.25588           6\n",
       "3              Hope & 1st          34.05772         -118.24897           5\n",
       "4      Grand & Washington          34.03286         -118.26808           5\n",
       "..                    ...               ...                ...         ...\n",
       "219       Sunset & Virgil          34.09801         -118.28707           4\n",
       "220     Hoover & Fountain          34.09493         -118.28456           5\n",
       "221       Pershing Square          34.04804         -118.25374          10\n",
       "222    Venice & Inglewood          34.00587         -118.42916           1\n",
       "223         4th & Vermont          34.06699         -118.29088          11\n",
       "\n",
       "[224 rows x 4 columns]"
      ]
     },
     "execution_count": 18,
     "metadata": {},
     "output_type": "execute_result"
    }
   ],
   "source": [
    "# create a dataframe with info for each station\n",
    "bikes_df = pd.json_normalize(station_info)\n",
    "bikes_df = bikes_df.rename(columns={'name':'station_address', 'latitude':'bike_station_lat','longitude':'bike_station_long'})\n",
    "bikes_df = bikes_df[['station_address','bike_station_lat','bike_station_long','free_bikes']]\n",
    "bikes_df.to_csv('bikes_df', index=False)\n"
   ]
  }
 ],
 "metadata": {
  "kernelspec": {
   "display_name": "Python 3 (ipykernel)",
   "language": "python",
   "name": "python3"
  },
  "language_info": {
   "codemirror_mode": {
    "name": "ipython",
    "version": 3
   },
   "file_extension": ".py",
   "mimetype": "text/x-python",
   "name": "python",
   "nbconvert_exporter": "python",
   "pygments_lexer": "ipython3",
   "version": "3.9.16"
  }
 },
 "nbformat": 4,
 "nbformat_minor": 4
}
